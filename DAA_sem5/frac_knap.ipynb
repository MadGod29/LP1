{
 "cells": [
  {
   "cell_type": "code",
   "execution_count": 1,
   "id": "c57b7878-f150-4e70-ac50-f1f0227a023d",
   "metadata": {},
   "outputs": [
    {
     "name": "stdout",
     "output_type": "stream",
     "text": [
      "Fractional Knapsack: 240.0\n"
     ]
    }
   ],
   "source": [
    "# Fractional Knapsack (Greedy Algorithm)\n",
    "class Item:\n",
    "    def __init__(self, value, weight):\n",
    "        self.value = value\n",
    "        self.weight = weight\n",
    "        self.ratio = value / weight\n",
    "\n",
    "def fractional_knapsack(items, capacity):\n",
    "    items.sort(key=lambda x: x.ratio, reverse=True)\n",
    "    total_value = 0\n",
    "    for item in items:\n",
    "        if capacity >= item.weight:\n",
    "            capacity -= item.weight\n",
    "            total_value += item.value\n",
    "        else:\n",
    "            total_value += item.ratio * capacity\n",
    "            break\n",
    "    return total_value\n",
    "\n",
    "# Example usage\n",
    "items = [Item(60, 10), Item(100, 20), Item(120, 30)]\n",
    "capacity = 50\n",
    "print(\"Fractional Knapsack:\", fractional_knapsack(items, capacity))"
   ]
  },
  {
   "cell_type": "code",
   "execution_count": null,
   "id": "248f1d67-ce5a-4270-a14a-f8e32b37f0a1",
   "metadata": {},
   "outputs": [],
   "source": []
  }
 ],
 "metadata": {
  "kernelspec": {
   "display_name": "Python 3 (ipykernel)",
   "language": "python",
   "name": "python3"
  },
  "language_info": {
   "codemirror_mode": {
    "name": "ipython",
    "version": 3
   },
   "file_extension": ".py",
   "mimetype": "text/x-python",
   "name": "python",
   "nbconvert_exporter": "python",
   "pygments_lexer": "ipython3",
   "version": "3.8.19"
  }
 },
 "nbformat": 4,
 "nbformat_minor": 5
}
